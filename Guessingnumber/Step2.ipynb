{
 "cells": [
  {
   "cell_type": "markdown",
   "metadata": {},
   "source": [
    "# Guessing number\n"
   ]
  },
  {
   "cell_type": "markdown",
   "metadata": {},
   "source": [
    "## Step 2"
   ]
  },
  {
   "cell_type": "markdown",
   "metadata": {},
   "source": [
    "#### 介紹遊戲規則。"
   ]
  },
  {
   "cell_type": "code",
   "execution_count": 1,
   "metadata": {},
   "outputs": [
    {
     "name": "stdout",
     "output_type": "stream",
     "text": [
      "Hello everyone,welcome to the guessing game challeng\n",
      "There is a number between 1 and 100\n",
      "Please guess this number\n",
      "If your guess is more than 10 away from the number,you will see the COLD\n",
      "If your guess is within 10 of my number, you will see the WARM\n",
      "If your guess is closer to the previous number, you will see the WARMER\n",
      "If your guess is farther to the previous number, you will see the COLDER\n",
      "Good luck and let is begin the game\n"
     ]
    }
   ],
   "source": [
    "print('Hello everyone,welcome to the guessing game challeng')\n",
    "print('There is a number between 1 and 100')\n",
    "print('Please guess this number')\n",
    "print('If your guess is more than 10 away from the number,you will see the COLD')\n",
    "print('If your guess is within 10 of my number, you will see the WARM')\n",
    "print('If your guess is closer to the previous number, you will see the WARMER')\n",
    "print('If your guess is farther to the previous number, you will see the COLDER')\n",
    "print('Good luck and let is begin the game')"
   ]
  },
  {
   "cell_type": "code",
   "execution_count": null,
   "metadata": {},
   "outputs": [],
   "source": []
  }
 ],
 "metadata": {
  "kernelspec": {
   "display_name": "Python 3",
   "language": "python",
   "name": "python3"
  },
  "language_info": {
   "codemirror_mode": {
    "name": "ipython",
    "version": 3
   },
   "file_extension": ".py",
   "mimetype": "text/x-python",
   "name": "python",
   "nbconvert_exporter": "python",
   "pygments_lexer": "ipython3",
   "version": "3.7.3"
  }
 },
 "nbformat": 4,
 "nbformat_minor": 2
}
