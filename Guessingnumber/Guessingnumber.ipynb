{
 "cells": [
  {
   "cell_type": "markdown",
   "metadata": {},
   "source": [
    "# Guessing number"
   ]
  },
  {
   "cell_type": "markdown",
   "metadata": {},
   "source": [
    "## Wholesteps"
   ]
  },
  {
   "cell_type": "markdown",
   "metadata": {},
   "source": [
    "將所有的步驟合併起來。"
   ]
  },
  {
   "cell_type": "code",
   "execution_count": 1,
   "metadata": {},
   "outputs": [],
   "source": [
    "import random\n",
    "\n",
    "num = random.randint(1,100)"
   ]
  },
  {
   "cell_type": "code",
   "execution_count": 2,
   "metadata": {},
   "outputs": [
    {
     "name": "stdout",
     "output_type": "stream",
     "text": [
      "Hello everyone,welcome to the guessing game challeng\n",
      "There is a number between 1 and 100\n",
      "Please guess this number\n",
      "If your guess is more than 10 away from the number,you will see the COLD\n",
      "If your guess is within 10 of my number, you will see the WARM\n",
      "If your guess is closer to the previous number, you will see the WARMER\n",
      "If your guess is farther to the previous number, you will see the COLDER\n",
      "Good luck and let is begin the game\n"
     ]
    }
   ],
   "source": [
    "print('Hello everyone,welcome to the guessing game challeng')\n",
    "print('There is a number between 1 and 100')\n",
    "print('Please guess this number')\n",
    "print('If your guess is more than 10 away from the number,you will see the COLD')\n",
    "print('If your guess is within 10 of my number, you will see the WARM')\n",
    "print('If your guess is closer to the previous number, you will see the WARMER')\n",
    "print('If your guess is farther to the previous number, you will see the COLDER')\n",
    "print('Good luck and let is begin the game')"
   ]
  },
  {
   "cell_type": "code",
   "execution_count": 3,
   "metadata": {},
   "outputs": [],
   "source": [
    "guesses = [0]"
   ]
  },
  {
   "cell_type": "code",
   "execution_count": 4,
   "metadata": {},
   "outputs": [
    {
     "name": "stdout",
     "output_type": "stream",
     "text": [
      "There is a number between 1 and 100.\n",
      " What is you guess? 101\n",
      "This number is OUT OF BOUNDS,please guess anther number!\n",
      "There is a number between 1 and 100.\n",
      " What is you guess? 50\n"
     ]
    }
   ],
   "source": [
    "while True:\n",
    "    \n",
    "    guess = int(input('There is a number between 1 and 100.\\n What is you guess? '))\n",
    "    \n",
    "    if guess < 1 or guess > 100:\n",
    "        print('This number is OUT OF BOUNDS,please guess anther number!')\n",
    "        continue\n",
    "        \n",
    "    break"
   ]
  },
  {
   "cell_type": "code",
   "execution_count": 5,
   "metadata": {},
   "outputs": [
    {
     "name": "stdout",
     "output_type": "stream",
     "text": [
      "There is a number between 1 and 100.\n",
      " What is you guess? 59\n",
      "COLD\n",
      "There is a number between 1 and 100.\n",
      " What is you guess? 62\n",
      "WARMER\n",
      "There is a number between 1 and 100.\n",
      " What is you guess? 61\n",
      "COLDER\n",
      "There is a number between 1 and 100.\n",
      " What is you guess? 58\n",
      "COLDER\n",
      "There is a number between 1 and 100.\n",
      " What is you guess? 68\n",
      "WARMER\n",
      "There is a number between 1 and 100.\n",
      " What is you guess? 71\n",
      "WARMER\n",
      "There is a number between 1 and 100.\n",
      " What is you guess? 78\n",
      "WARMER\n",
      "There is a number between 1 and 100.\n",
      " What is you guess? 81\n",
      "WARMER\n",
      "There is a number between 1 and 100.\n",
      " What is you guess? 90\n",
      "WARMER\n",
      "There is a number between 1 and 100.\n",
      " What is you guess? 92\n",
      "Congradulations! You guess the number in 10 times.\n"
     ]
    }
   ],
   "source": [
    "while True:\n",
    "    # 先讓玩家輸入想要猜的數字\n",
    "    guess = int(input('There is a number between 1 and 100.\\n What is you guess? '))\n",
    "    \n",
    "    # 如果玩家輸入的數字，超過範圍的話，會回傳錯誤訊息\n",
    "    if guess < 1 or guess > 100:\n",
    "        print('This number is OUT OF BOUNDS,please guess anther number!')\n",
    "        continue\n",
    "    \n",
    "    # 如果玩家輸入的數字，跟亂數取出的數字一樣，會回傳正確訊息，並告訴玩家猜了幾次。\n",
    "    if guess == num:\n",
    "        print(f'Congradulations! You guess the number in {len(guesses)} times.')\n",
    "        break\n",
    "    \n",
    "    # 將玩家所猜的數字，存入 list 當中\n",
    "    guesses.append(guess)\n",
    "    \n",
    "    # 如果玩家第二次猜的數字與亂數相減，比上一次的還少，則會顯示 WARMER，否則就會顯示 COLDER\n",
    "    if guesses[-2]:\n",
    "        if abs(num - guess) < abs(num - guesses[-2]):\n",
    "            print('WARMER')\n",
    "        else:\n",
    "            print('COLDER')\n",
    "    else:\n",
    "        \n",
    "        # 如果玩家所猜的數字與亂數相減是在 10 之內，則會顯示 WARM，否則就會顯示 COLD \n",
    "        if abs(num - guess) <= 10:\n",
    "            print('WARM')\n",
    "        else:\n",
    "            print('COLD')"
   ]
  },
  {
   "cell_type": "code",
   "execution_count": null,
   "metadata": {},
   "outputs": [],
   "source": []
  }
 ],
 "metadata": {
  "kernelspec": {
   "display_name": "Python 3",
   "language": "python",
   "name": "python3"
  },
  "language_info": {
   "codemirror_mode": {
    "name": "ipython",
    "version": 3
   },
   "file_extension": ".py",
   "mimetype": "text/x-python",
   "name": "python",
   "nbconvert_exporter": "python",
   "pygments_lexer": "ipython3",
   "version": "3.7.3"
  }
 },
 "nbformat": 4,
 "nbformat_minor": 2
}
