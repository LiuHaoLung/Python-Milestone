{
 "cells": [
  {
   "cell_type": "markdown",
   "metadata": {},
   "source": [
    "# Introduction Dataset"
   ]
  },
  {
   "cell_type": "markdown",
   "metadata": {},
   "source": [
    "The dataset is based on the dataset of already existing study about the prediction of absenteeism at work, this means that the business exercise you will go through will be realistic and the skills you will have developed by the time you complete it will have 100% application in the business world.\n",
    "\n",
    "When performing research, it will always have to work with some data, it can be classified into two types, primary and secondary.\n",
    "\n",
    "A nonprofessional way to define primary data is to call it data you have created, for instance if you are conducting a survey or a questionnaire, the respondents answer questions, the face you are conducting the survey means you are creating the data, other people are answering but you are the one tasking the questions and collecting the answers.\n",
    "\n",
    "In the business context, companies create data all the time, strong numeric information about sales operations, changing inventory and filling out the accounting ledger are all instances of primary data, it is information that didn't exist in any form prior to this moment.\n",
    "\n",
    "When you were thinking about business intelligence often the data's primary in-house data.\n",
    "\n",
    "The other and actually more common type is called secondary data, this is already existing dataset that somebody else has gathered in an organized, not yourself, data that you have downloaded from an online website for free or data that you've bought from an organization are both instances of secondary data.\n",
    "___\n",
    "\n",
    "It is important to realize that primary and secondary sources of data are relative terms, all the datasets used in this exercise are secondary data.\n",
    "\n",
    "Regargless of whether you are dealing wiht primary of secondary data, it will have to do data preprocessing, this is an essential part of every quantitative analysis, it is a group of operations that will convert your raw data(the data you have been given) into a format that is easier to understand and hence useful for further processing and analysis.\n",
    "\n",
    "This step attempts to fix the problems that can inevitably occur with data gathering, furthermore it helps organize your information in a suitable and practical way before you do your analysis and start making predictions."
   ]
  },
  {
   "cell_type": "code",
   "execution_count": null,
   "metadata": {},
   "outputs": [],
   "source": []
  }
 ],
 "metadata": {
  "kernelspec": {
   "display_name": "Python 3",
   "language": "python",
   "name": "python3"
  },
  "language_info": {
   "codemirror_mode": {
    "name": "ipython",
    "version": 3
   },
   "file_extension": ".py",
   "mimetype": "text/x-python",
   "name": "python",
   "nbconvert_exporter": "python",
   "pygments_lexer": "ipython3",
   "version": "3.7.4"
  }
 },
 "nbformat": 4,
 "nbformat_minor": 2
}
