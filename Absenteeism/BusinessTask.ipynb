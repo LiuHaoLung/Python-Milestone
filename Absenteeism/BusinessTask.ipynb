{
 "cells": [
  {
   "cell_type": "markdown",
   "metadata": {},
   "source": [
    "# Business Task"
   ]
  },
  {
   "cell_type": "markdown",
   "metadata": {},
   "source": [
    "This exercise will address absenteeism at a company during work time.\n",
    "\n",
    "The problem is that the business environment of today is more competitive that it used to be, this leads to increased pressure in the workplace.\n",
    "\n",
    "Therefore it is reasonable to expect that unachievable business goals and elevated risk of unemployment can raise people's stress levels.\n",
    "\n",
    "Often the continuous presence of such factors becomes detrimental to a person's health, sometimes this may result in minor illness which of course is not desired.\n",
    "\n",
    "However it may happen that the employee develops a longterm condition, an example being depression, that being said since we will be solving the problem from the point of view of the person in charge of productivity in the company, we won't focus on that facet of the problem.\n",
    "\n",
    "Rather we'll look at predicting absenteeism from work, more precisely we would like to know whether or not an employee can be expected to be missing for a specific number of hours in a given work day.\n",
    "\n",
    "Having such information in advance can improve our decision making how, by reorganizing the work process in a way that will allow us to avoid a lack of productivity and increas the quality of work generated in firm.\n",
    "\n",
    "So how to define absenteeism, the absence from work during normal working hours resulting in temporary incapacity to execute regular working activity.\n",
    "\n",
    "Logicalliy here comes some additional questions, based on what information should we predict whether an emplyee is expected to be absent or not, how would we measure absenteeism.\n",
    "\n",
    "As a whole of the business exercise will be to explore whether a person presenting certain characteristics is expected to be away from work at some point in time or not, in other words we want to know for how many working hours an employee could be away from work based on information, such as how far they live from their workplace, how many children and pets they have, do they have higher education and so on. "
   ]
  },
  {
   "cell_type": "code",
   "execution_count": null,
   "metadata": {},
   "outputs": [],
   "source": []
  }
 ],
 "metadata": {
  "kernelspec": {
   "display_name": "Python 3",
   "language": "python",
   "name": "python3"
  },
  "language_info": {
   "codemirror_mode": {
    "name": "ipython",
    "version": 3
   },
   "file_extension": ".py",
   "mimetype": "text/x-python",
   "name": "python",
   "nbconvert_exporter": "python",
   "pygments_lexer": "ipython3",
   "version": "3.7.4"
  }
 },
 "nbformat": 4,
 "nbformat_minor": 2
}
