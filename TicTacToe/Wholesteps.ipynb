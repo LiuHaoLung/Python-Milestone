{
 "cells": [
  {
   "cell_type": "markdown",
   "metadata": {},
   "source": [
    "# TIC TAC TOE"
   ]
  },
  {
   "cell_type": "markdown",
   "metadata": {},
   "source": [
    "## Wholesteps"
   ]
  },
  {
   "cell_type": "markdown",
   "metadata": {},
   "source": [
    "將所有的步驟合併起來。"
   ]
  },
  {
   "cell_type": "code",
   "execution_count": 1,
   "metadata": {},
   "outputs": [],
   "source": [
    "# 用 clear_output 的函數，可以將畫面清空\n",
    "from IPython.display import clear_output\n",
    "\n",
    "def display_board(board):\n",
    "    \n",
    "    clear_output()\n",
    "    \n",
    "    print('  |   |  ')\n",
    "    print(board[7]+' | '+board[8]+' | '+board[9])\n",
    "    print('  |   |  ')\n",
    "    print('---------')\n",
    "    print('  |   |  ')\n",
    "    print(board[4]+' | '+board[5]+' | '+board[6])\n",
    "    print('  |   |  ')\n",
    "    print('---------')\n",
    "    print('  |   |  ')\n",
    "    print(board[1]+' | '+board[2]+' | '+board[3])\n",
    "    print('  |   |  ')"
   ]
  },
  {
   "cell_type": "code",
   "execution_count": 2,
   "metadata": {},
   "outputs": [
    {
     "name": "stdout",
     "output_type": "stream",
     "text": [
      "  |   |  \n",
      "X | O | X\n",
      "  |   |  \n",
      "---------\n",
      "  |   |  \n",
      "O | X | O\n",
      "  |   |  \n",
      "---------\n",
      "  |   |  \n",
      "X | O | X\n",
      "  |   |  \n"
     ]
    }
   ],
   "source": [
    "test_board = ['#','X','O','X','O','X','O','X','O','X']\n",
    "display_board(test_board)"
   ]
  },
  {
   "cell_type": "code",
   "execution_count": 3,
   "metadata": {},
   "outputs": [],
   "source": [
    "# 讓玩家選擇所要使用的值是什麼，第一位玩家選擇完後，則第二位玩家就是相反的值\n",
    "def player_input():\n",
    "    \n",
    "    marker = ''\n",
    "    \n",
    "    while not (marker == 'X' or marker == 'O'):\n",
    "        marker = input('Player_1: Do you want to be X or O? ').upper()\n",
    "        \n",
    "    if marker == 'X':\n",
    "        return ('X','O')\n",
    "    else:\n",
    "        return ('O','X')"
   ]
  },
  {
   "cell_type": "code",
   "execution_count": 4,
   "metadata": {},
   "outputs": [
    {
     "name": "stdout",
     "output_type": "stream",
     "text": [
      "Player_1: Do you want to be X or O? x\n"
     ]
    },
    {
     "data": {
      "text/plain": [
       "('X', 'O')"
      ]
     },
     "execution_count": 4,
     "metadata": {},
     "output_type": "execute_result"
    }
   ],
   "source": [
    "player_input()"
   ]
  },
  {
   "cell_type": "code",
   "execution_count": 5,
   "metadata": {},
   "outputs": [],
   "source": [
    "def place_marker(board, marker, position):\n",
    "    # 將 marker 指定給 棋盤上的位置\n",
    "    board[position] = marker"
   ]
  },
  {
   "cell_type": "code",
   "execution_count": 6,
   "metadata": {},
   "outputs": [
    {
     "name": "stdout",
     "output_type": "stream",
     "text": [
      "  |   |  \n",
      "X | $ | X\n",
      "  |   |  \n",
      "---------\n",
      "  |   |  \n",
      "O | X | O\n",
      "  |   |  \n",
      "---------\n",
      "  |   |  \n",
      "X | O | X\n",
      "  |   |  \n"
     ]
    }
   ],
   "source": [
    "place_marker(test_board,'$',8)\n",
    "display_board(test_board)"
   ]
  },
  {
   "cell_type": "code",
   "execution_count": 7,
   "metadata": {},
   "outputs": [],
   "source": [
    "# 檢查所有可以獲勝的條件，行列各三條，還有兩條斜線\n",
    "def win_check(board, mark):\n",
    "    return((board[7] == mark and board[8] == mark and board[9] == mark) or\n",
    "(board[4] == mark and board[5] == mark and board[6] == mark) or\n",
    "(board[1] == mark and board[2] == mark and board[3] == mark) or\n",
    "(board[7] == mark and board[4] == mark and board[1] == mark) or\n",
    "(board[8] == mark and board[5] == mark and board[2] == mark) or\n",
    "(board[9] == mark and board[6] == mark and board[3] == mark) or\n",
    "(board[7] == mark and board[5] == mark and board[3] == mark) or\n",
    "(board[9] == mark and board[5] == mark and board[1] == mark))"
   ]
  },
  {
   "cell_type": "code",
   "execution_count": 8,
   "metadata": {},
   "outputs": [
    {
     "data": {
      "text/plain": [
       "True"
      ]
     },
     "execution_count": 8,
     "metadata": {},
     "output_type": "execute_result"
    }
   ],
   "source": [
    "win_check(test_board,'X')"
   ]
  },
  {
   "cell_type": "code",
   "execution_count": 9,
   "metadata": {},
   "outputs": [],
   "source": [
    "# 讓玩家隨機開始\n",
    "import random\n",
    "def choose_first():\n",
    "    if random.randint(0,1) == 0:\n",
    "        return 'Player 2'\n",
    "    else:\n",
    "        return 'Player 1'"
   ]
  },
  {
   "cell_type": "code",
   "execution_count": 10,
   "metadata": {},
   "outputs": [],
   "source": [
    "# 在這個棋盤上的這個位置，是不是空值，要回傳 booleans\n",
    "def space_check(board, position):\n",
    "    return board[position] == ' '"
   ]
  },
  {
   "cell_type": "code",
   "execution_count": 11,
   "metadata": {},
   "outputs": [],
   "source": [
    "# 檢查現在的棋盤狀態，是不是全滿的，如果不是，則回傳 False，如果是，則回傳 True\n",
    "def full_board_check(board):\n",
    "    for i in range(1,10):\n",
    "        if space_check(board,i):\n",
    "            return False\n",
    "    \n",
    "    return True"
   ]
  },
  {
   "cell_type": "code",
   "execution_count": 12,
   "metadata": {},
   "outputs": [],
   "source": [
    "# 先詢問玩家要放入的位置在哪裡，在檢查這個位置是不是空的\n",
    "def player_choice(board):\n",
    "    position = 0\n",
    "    \n",
    "    while position not in [1,2,3,4,5,6,7,8,9] or not space_check(board,position):\n",
    "        position = int(input(\"Choose your next position: (1-9) \"))\n",
    "    \n",
    "    return position"
   ]
  },
  {
   "cell_type": "code",
   "execution_count": 13,
   "metadata": {},
   "outputs": [],
   "source": [
    "# 遊戲結束後，詢問玩家是不是要重新玩\n",
    "def replay():\n",
    "    return input('Do you want to play again? Enter Yes or No: ').lower().startswith('y')"
   ]
  },
  {
   "cell_type": "code",
   "execution_count": 14,
   "metadata": {},
   "outputs": [
    {
     "name": "stdout",
     "output_type": "stream",
     "text": [
      "  |   |  \n",
      "  | O |  \n",
      "  |   |  \n",
      "---------\n",
      "  |   |  \n",
      "X | O | X\n",
      "  |   |  \n",
      "---------\n",
      "  |   |  \n",
      "X | O |  \n",
      "  |   |  \n",
      "Congradulations player2 win the game\n",
      "Do you want to play again? Enter Yes or No: 7\n"
     ]
    }
   ],
   "source": [
    "print('Welcome to Tic Tac Toe!')\n",
    "\n",
    "while True:\n",
    "    # 將 board 清單全部歸零\n",
    "    theBoard = [' '] * 10\n",
    "    # 將玩家所選擇的值，指派給玩家\n",
    "    player1_marker , player2_marker = player_input()\n",
    "    # 讓玩家隨機開始\n",
    "    turn = choose_first()\n",
    "    print(turn + ' will go first!')\n",
    "    \n",
    "    play_game = input('Are you ready to play this game? Enter Yes or Not.')\n",
    "    # 如果玩家輸入 yes ，判斷字串時，取這個字的第一個字，如果是 y 則遊戲開始。\n",
    "    if play_game.lower()[0] == 'y':\n",
    "        game_on = True\n",
    "    else:\n",
    "        game_on = Fasle\n",
    "        \n",
    "    while game_on:\n",
    "        # 當玩家一第一個開始時\n",
    "        if turn == 'Player 1':\n",
    "            # 先顯示棋盤\n",
    "            display_board(theBoard)\n",
    "            # 讓玩家一選擇要放入的位置\n",
    "            position = player_choice(theBoard)\n",
    "            # 將值放入玩家一所選擇的位置\n",
    "            place_marker(theBoard, player1_marker, position)\n",
    "            \n",
    "            # 檢查勝利的條件\n",
    "            if win_check(theBoard, player1_marker):\n",
    "                display_board(theBoard)\n",
    "                # 如果達到勝利的條件，則顯示恭喜你贏了遊戲\n",
    "                print('Congradulations player1 win the game')\n",
    "                # game_on 變成 False，就會結束\n",
    "                game_on = False\n",
    "            else:\n",
    "                # 如果勝利條件還沒達到，則檢查棋盤是否皆是滿的\n",
    "                if full_board_check(theBoard):\n",
    "                    display_board(theBoard)\n",
    "                    # 如果棋盤是滿的，則顯示此遊戲平手\n",
    "                    print('This game is draw!')\n",
    "                    # 跳出這個 loop\n",
    "                    break\n",
    "                else:\n",
    "                    # 否則就會到玩家二\n",
    "                    turn = 'Player 2'\n",
    "                    \n",
    "        else:\n",
    "            display_board(theBoard)\n",
    "            position = player_choice(theBoard)\n",
    "            place_marker(theBoard, player2_marker, position)\n",
    "            \n",
    "            if win_check(theBoard, player2_marker):\n",
    "                display_board(theBoard)\n",
    "                print('Congradulations player2 win the game')\n",
    "                game_on = False\n",
    "            else:\n",
    "                if full_board_check(theBoard):\n",
    "                    display_board(theBoard)\n",
    "                    print('This game is draw!')\n",
    "                    break\n",
    "                else:\n",
    "                    turn = 'Player 1'\n",
    "                    \n",
    "    if not replay():\n",
    "        break\n",
    "                    "
   ]
  },
  {
   "cell_type": "code",
   "execution_count": null,
   "metadata": {},
   "outputs": [],
   "source": []
  }
 ],
 "metadata": {
  "kernelspec": {
   "display_name": "Python 3",
   "language": "python",
   "name": "python3"
  },
  "language_info": {
   "codemirror_mode": {
    "name": "ipython",
    "version": 3
   },
   "file_extension": ".py",
   "mimetype": "text/x-python",
   "name": "python",
   "nbconvert_exporter": "python",
   "pygments_lexer": "ipython3",
   "version": "3.7.3"
  }
 },
 "nbformat": 4,
 "nbformat_minor": 2
}
