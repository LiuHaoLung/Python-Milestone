{
 "cells": [
  {
   "cell_type": "markdown",
   "metadata": {},
   "source": [
    "# TIC TAC TOE"
   ]
  },
  {
   "cell_type": "markdown",
   "metadata": {},
   "source": [
    "## Step 4"
   ]
  },
  {
   "cell_type": "markdown",
   "metadata": {},
   "source": [
    "#### 寫出一個函式，可以檢查是否勝利。\n",
    "\n",
    "檢查的條件，只要行列及斜線裡面的值都相同，即是勝利。"
   ]
  },
  {
   "cell_type": "code",
   "execution_count": 1,
   "metadata": {},
   "outputs": [],
   "source": [
    "def win_check(board, mark):\n",
    "    return((board[7] == mark and board[8] == mark and board[9] == mark) or\n",
    "(board[4] == mark and board[5] == mark and board[6] == mark) or\n",
    "(board[1] == mark and board[2] == mark and board[3] == mark) or\n",
    "(board[7] == mark and board[4] == mark and board[1] == mark) or\n",
    "(board[8] == mark and board[5] == mark and board[2] == mark) or\n",
    "(board[9] == mark and board[6] == mark and board[3] == mark) or\n",
    "(board[7] == mark and board[5] == mark and board[3] == mark) or\n",
    "(board[9] == mark and board[5] == mark and board[1] == mark))"
   ]
  }
 ],
 "metadata": {
  "kernelspec": {
   "display_name": "Python 3",
   "language": "python",
   "name": "python3"
  },
  "language_info": {
   "codemirror_mode": {
    "name": "ipython",
    "version": 3
   },
   "file_extension": ".py",
   "mimetype": "text/x-python",
   "name": "python",
   "nbconvert_exporter": "python",
   "pygments_lexer": "ipython3",
   "version": "3.7.3"
  }
 },
 "nbformat": 4,
 "nbformat_minor": 2
}
