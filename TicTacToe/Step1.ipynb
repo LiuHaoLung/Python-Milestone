{
 "cells": [
  {
   "cell_type": "markdown",
   "metadata": {},
   "source": [
    "# TIC TAC TOE"
   ]
  },
  {
   "cell_type": "markdown",
   "metadata": {},
   "source": [
    "## Step 1"
   ]
  },
  {
   "cell_type": "markdown",
   "metadata": {},
   "source": [
    "#### 寫出一個函式，可以印出所需要的棋盤。\n",
    "\n",
    "並將這個棋盤的資料型態設定為list，裡頭的索引值要1到9的數字。"
   ]
  },
  {
   "cell_type": "code",
   "execution_count": 1,
   "metadata": {},
   "outputs": [],
   "source": [
    "# It is want to clear the screens\n",
    "from IPython.display import clear_output\n",
    "\n",
    "def display_board(board):\n",
    "    \n",
    "    # To make sure the early board had been clear\n",
    "    clear_output()\n",
    "    \n",
    "    # Board is whatever you want but the main idea is the index have to put in the board\n",
    "    print('  |   |  ')\n",
    "    print(board[7]+' | '+board[8]+' | '+board[9])\n",
    "    print('  |   |  ')\n",
    "    print('---------')\n",
    "    print('  |   |  ')\n",
    "    print(board[4]+' | '+board[5]+' | '+board[6])\n",
    "    print('  |   |  ')\n",
    "    print('---------')\n",
    "    print('  |   |  ')\n",
    "    print(board[1]+' | '+board[2]+' | '+board[3])\n",
    "    print('  |   |  ')"
   ]
  },
  {
   "cell_type": "code",
   "execution_count": 2,
   "metadata": {},
   "outputs": [
    {
     "name": "stdout",
     "output_type": "stream",
     "text": [
      "  |   |  \n",
      "X | O | X\n",
      "  |   |  \n",
      "---------\n",
      "  |   |  \n",
      "O | X | O\n",
      "  |   |  \n",
      "---------\n",
      "  |   |  \n",
      "X | O | X\n",
      "  |   |  \n"
     ]
    }
   ],
   "source": [
    "# It is a test list so that can know the display_board func can run\n",
    "test_board = ['#','X','O','X','O','X','O','X','O','X']\n",
    "display_board(test_board)"
   ]
  }
 ],
 "metadata": {
  "kernelspec": {
   "display_name": "Python 3",
   "language": "python",
   "name": "python3"
  },
  "language_info": {
   "codemirror_mode": {
    "name": "ipython",
    "version": 3
   },
   "file_extension": ".py",
   "mimetype": "text/x-python",
   "name": "python",
   "nbconvert_exporter": "python",
   "pygments_lexer": "ipython3",
   "version": "3.7.3"
  }
 },
 "nbformat": 4,
 "nbformat_minor": 2
}
