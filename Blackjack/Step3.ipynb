{
 "cells": [
  {
   "cell_type": "markdown",
   "metadata": {},
   "source": [
    "# Blackjack"
   ]
  },
  {
   "cell_type": "markdown",
   "metadata": {},
   "source": [
    "## Step 1"
   ]
  },
  {
   "cell_type": "markdown",
   "metadata": {},
   "source": [
    "#### 先宣告 global variables。"
   ]
  },
  {
   "cell_type": "code",
   "execution_count": 1,
   "metadata": {},
   "outputs": [],
   "source": [
    "# 可以在任何的 func 和 object 裡面使用\n",
    "import random\n",
    "\n",
    "# 四種撲克牌的花色，Hearts 是愛心，Diamonds 是菱形，Spades 是黑桃，Clubs 是梅花\n",
    "suits = ('Hearts','Diamonds','Spades','Clubs')\n",
    "\n",
    "# 撲克牌的排序，從最小的 2 到 Ace\n",
    "ranks = ('Two','Three','Four','Five','Six','Seven','Eight','Nine','Ten','Jack','Queen','King','Ace')\n",
    "\n",
    "# 將撲克牌的值，指定給 ranks，然後要用 dict 去配對，這樣就可以知道哪一個關鍵字對應到的值為何\n",
    "values = {'Two':2, 'Three':3, 'Four':4, 'Five':5, 'Six':6, 'Seven':7, 'Eight':8, 'Nine':9, 'Ten':10, 'Jack':10,'Queen':10, 'King':10, 'Ace':11}\n",
    "\n",
    "playing = True"
   ]
  },
  {
   "cell_type": "markdown",
   "metadata": {},
   "source": [
    "## Step 2"
   ]
  },
  {
   "cell_type": "markdown",
   "metadata": {},
   "source": [
    "#### 建立 Card 的類別，並讓物件有花色及排序的屬性。"
   ]
  },
  {
   "cell_type": "code",
   "execution_count": 2,
   "metadata": {},
   "outputs": [],
   "source": [
    "class Card:\n",
    "    \n",
    "    # 讓不同的物件，都各有花色和排序的屬性\n",
    "    def __init__(self,suit,rank):\n",
    "        \n",
    "        self.suit = suit\n",
    "        self.rank = rank\n",
    "        \n",
    "    # 測試是否可以順利顯示出這個排序的屬性\n",
    "    def __str__(self):\n",
    "        \n",
    "        return (f'{self.rank} of {self.suit}')"
   ]
  },
  {
   "cell_type": "markdown",
   "metadata": {},
   "source": [
    "## Step 3"
   ]
  },
  {
   "cell_type": "markdown",
   "metadata": {},
   "source": [
    "#### 建立 Deck 的類別，可以將52張撲克牌存入在 list 裡面，並且可以順利顯數出來，除此之外，可以讓 Deck 上的撲克牌亂數顯示。"
   ]
  },
  {
   "cell_type": "code",
   "execution_count": 3,
   "metadata": {},
   "outputs": [],
   "source": [
    "class Deck:\n",
    "    \n",
    "    # 不在 __init__ 裡面放入 deck 這個屬性，是因為不想在每次都得到不一樣的結果\n",
    "    def __init__(self):\n",
    "        # 將這個 deck 的屬性從 0 開始\n",
    "        self.deck = []  \n",
    "        \n",
    "        # 要將 52 張撲克牌放入在這個 list 裡面\n",
    "        for suit in suits:\n",
    "            for rank in ranks:\n",
    "                # 要用 Card 這個類別裡面的 suit 和 rank\n",
    "                self.deck.append(Card(suit,rank))\n",
    "    \n",
    "    # 測試可以將不同的牌顯示出來\n",
    "    def __str__(self):\n",
    "        deck_comp = ''\n",
    "        \n",
    "        # 在 self.deck 裡面進行 loop，並將這些撲克牌顯示出來\n",
    "        for card in self.deck:\n",
    "            # 呼叫在 Card 這個類別裡面的 __str__ 方法\n",
    "            deck_comp += '\\n' + card.__str__()\n",
    "        return 'The deck has: ' + deck_comp\n",
    "    \n",
    "    # 呼叫 random 裡的 suffle 方法，可以順利將牌面上的牌亂數重洗\n",
    "    def shuffle(self):\n",
    "        random.shuffle(self.deck)\n",
    "    \n",
    "    def deal(self):\n",
    "        # 抓出 self.deck 這個 list 裡面的東西，並將這個東西丟出來\n",
    "        single_card = self.deck.pop()\n",
    "        return single_card"
   ]
  },
  {
   "cell_type": "code",
   "execution_count": 4,
   "metadata": {},
   "outputs": [],
   "source": [
    "test_deck = Deck()\n",
    "print(test_deck)"
   ]
  },
  {
   "cell_type": "markdown",
   "metadata": {},
   "source": [
    "可以讓這個 deck 上的撲克牌，按照花色及排序依序顯示出來。"
   ]
  },
  {
   "cell_type": "code",
   "execution_count": 5,
   "metadata": {},
   "outputs": [
    {
     "name": "stdout",
     "output_type": "stream",
     "text": [
      "The deck has: \n",
      "Four of Clubs\n",
      "Five of Clubs\n",
      "King of Diamonds\n",
      "King of Clubs\n",
      "Jack of Diamonds\n",
      "Seven of Hearts\n",
      "Jack of Clubs\n",
      "Five of Diamonds\n",
      "Queen of Hearts\n",
      "Ten of Diamonds\n",
      "Nine of Hearts\n",
      "Queen of Spades\n",
      "Ace of Spades\n",
      "Eight of Clubs\n",
      "Two of Hearts\n",
      "Ten of Clubs\n",
      "Jack of Hearts\n",
      "Three of Diamonds\n",
      "Ace of Diamonds\n",
      "Jack of Spades\n",
      "Nine of Spades\n",
      "Eight of Hearts\n",
      "Four of Hearts\n",
      "Queen of Diamonds\n",
      "Nine of Clubs\n",
      "Five of Spades\n",
      "Six of Diamonds\n",
      "Two of Diamonds\n",
      "Seven of Diamonds\n",
      "Six of Hearts\n",
      "Seven of Clubs\n",
      "Eight of Spades\n",
      "Four of Diamonds\n",
      "Three of Clubs\n",
      "Ten of Spades\n",
      "Seven of Spades\n",
      "Four of Spades\n",
      "Two of Clubs\n",
      "Two of Spades\n",
      "Ten of Hearts\n",
      "Ace of Hearts\n",
      "Three of Spades\n",
      "Six of Clubs\n",
      "Queen of Clubs\n",
      "Three of Hearts\n",
      "Nine of Diamonds\n",
      "King of Hearts\n",
      "Eight of Diamonds\n",
      "Five of Hearts\n",
      "King of Spades\n",
      "Ace of Clubs\n",
      "Six of Spades\n"
     ]
    }
   ],
   "source": [
    "test_deck = Deck()\n",
    "test_deck.shuffle()\n",
    "print(test_deck)"
   ]
  },
  {
   "cell_type": "markdown",
   "metadata": {},
   "source": [
    "如果加上 test_deck.shuffle() 則是要讓這些撲克牌不依照排序顯示，而是洗牌"
   ]
  },
  {
   "cell_type": "markdown",
   "metadata": {},
   "source": [
    "## Step 4"
   ]
  },
  {
   "cell_type": "markdown",
   "metadata": {},
   "source": [
    "#### 建立 Hand 的類別，可以紀錄玩家手上有什麼撲克牌。"
   ]
  },
  {
   "cell_type": "code",
   "execution_count": 6,
   "metadata": {},
   "outputs": [],
   "source": [
    "# 是代表在玩家手上有哪些撲克牌\n",
    "class Hand:\n",
    "    def __init__(self):\n",
    "        # 玩家手上預設沒有任何的撲克牌\n",
    "        self.cards = []  \n",
    "        # 玩家手上撲克牌的值為 0\n",
    "        self.value = 0\n",
    "        # 要追蹤 ace 的個數\n",
    "        self.aces = 0\n",
    "    \n",
    "    def add_card(self,card):\n",
    "        # 這個 card 是從 Deck.deal() --> single Card(suit,rank)\n",
    "        self.cards.append(card)\n",
    "        # 用 values[card.rank] 代表要抓回這個關鍵字的值\n",
    "        self.value += values[card.rank]\n",
    "    \n",
    "    def adjust_for_ace(self):\n",
    "        pass"
   ]
  },
  {
   "cell_type": "code",
   "execution_count": 7,
   "metadata": {},
   "outputs": [
    {
     "data": {
      "text/plain": [
       "5"
      ]
     },
     "execution_count": 7,
     "metadata": {},
     "output_type": "execute_result"
    }
   ],
   "source": [
    "# 抓出這個盤面\n",
    "test_deck = Deck()\n",
    "\n",
    "# 將這個盤面洗牌\n",
    "test_deck.shuffle()\n",
    "\n",
    "# 代表玩家\n",
    "test_player = Hand()\n",
    "\n",
    "# 從 deck 裡面，抓出一張牌，用在 Deck 裡面這個 deal 的方法，並從 Card 類別抓出 suit 和 rank\n",
    "test_player.add_card(test_deck.deal())\n",
    "test_player.add_card(test_deck.deal())\n",
    "\n",
    "# 抓出現在玩家手上撲克牌的值，因為 test_player = Hand()，所以可以直接使用在 Hand() 裡面的 value 的方法\n",
    "test_player.value"
   ]
  },
  {
   "cell_type": "code",
   "execution_count": 8,
   "metadata": {},
   "outputs": [
    {
     "name": "stdout",
     "output_type": "stream",
     "text": [
      "Two of Clubs\n",
      "Three of Hearts\n"
     ]
    }
   ],
   "source": [
    "# 抓出現在玩家手上有什麼撲克牌，用到 Hand() 裡面的 self.cards 的屬性\n",
    "for card in test_player.cards:\n",
    "    print(card)"
   ]
  },
  {
   "cell_type": "code",
   "execution_count": 9,
   "metadata": {},
   "outputs": [],
   "source": [
    "class Hand:\n",
    "    def __init__(self):\n",
    "        self.cards = []  \n",
    "        self.value = 0   \n",
    "        self.aces = 0    \n",
    "    \n",
    "    def add_card(self,card):\n",
    "        self.cards.append(card)\n",
    "        self.value += values[card.rank]\n",
    "        \n",
    "        # 追蹤在玩家手上，有幾張 ACE\n",
    "        if card.rank == 'Ace':\n",
    "            self.aces += 1\n",
    "    \n",
    "    def adjust_for_ace(self):\n",
    "        \n",
    "        # 如果總值超過 21 ，且手上還有 ACE ，那就將 ACE 的值變成 1\n",
    "        while self.value > 21 and self.aces:\n",
    "            # 因為 ACE 的值變成 1 ，所以將總值扣掉 10\n",
    "            self.value -= 10\n",
    "            self.aces -= 1 "
   ]
  },
  {
   "cell_type": "markdown",
   "metadata": {},
   "source": [
    "## Step 5"
   ]
  },
  {
   "cell_type": "markdown",
   "metadata": {},
   "source": [
    "#### 建立 Chips 的類別，可以紀錄玩家手上的籌碼。"
   ]
  },
  {
   "cell_type": "code",
   "execution_count": 10,
   "metadata": {},
   "outputs": [],
   "source": [
    "# 籌碼\n",
    "class Chips:\n",
    "    \n",
    "    def __init__(self):\n",
    "        # 預設玩家手上的籌碼為 100，而不是讓玩家自己輸入\n",
    "        self.total = 100  \n",
    "        self.bet = 0\n",
    "        \n",
    "    def win_bet(self):\n",
    "        # 贏得賭注\n",
    "        self.total += self.bet\n",
    "    \n",
    "    def lose_bet(self):\n",
    "        # 輸了賭注\n",
    "        self.total -= self.bet"
   ]
  },
  {
   "cell_type": "markdown",
   "metadata": {},
   "source": [
    "## Step 6"
   ]
  },
  {
   "cell_type": "markdown",
   "metadata": {},
   "source": [
    "#### 6-1：建立 take_bet 的方法"
   ]
  },
  {
   "cell_type": "code",
   "execution_count": 11,
   "metadata": {},
   "outputs": [],
   "source": [
    "def take_bet(chips):\n",
    "    \n",
    "    while True:\n",
    "        try:\n",
    "            # 在 Chips 這個類別裡面的 bet 的屬性\n",
    "            chips.bet = int(input('How many chips would you like to bet? '))\n",
    "        except ValueError:\n",
    "            print('Sorry, a bet must be an integer! ')\n",
    "        else:\n",
    "            # 如果下的賭注，超過自己本身的籌碼，就顯示超過自己的籌碼\n",
    "            if chips.bet > chips.total:\n",
    "                print(f'Sorry, you bet can not excced {chips.total}')\n",
    "            else:\n",
    "                break"
   ]
  },
  {
   "cell_type": "markdown",
   "metadata": {},
   "source": [
    "#### 6-2：建立 hit 的方法"
   ]
  },
  {
   "cell_type": "code",
   "execution_count": 12,
   "metadata": {},
   "outputs": [],
   "source": [
    "def hit(deck,hand):\n",
    "    \n",
    "    # 檢查玩家手上的值\n",
    "    hand.add_card(deck.deal())\n",
    "    # 如果玩家手上超過 21 ，則開始檢查玩家手上是不是有 ACE\n",
    "    hand.adjust_for_ace()"
   ]
  },
  {
   "cell_type": "markdown",
   "metadata": {},
   "source": [
    "#### 6-3：建立 hit_or_stand 的方法"
   ]
  },
  {
   "cell_type": "code",
   "execution_count": 13,
   "metadata": {},
   "outputs": [],
   "source": [
    "# 詢問玩家是要 hit 還是要 stand\n",
    "def hit_or_stand(deck,hand):\n",
    "    global playing\n",
    "    \n",
    "    while True:\n",
    "        x = input(\"Would you like to Hit or Stand? Enter 'h' or 's' \")\n",
    "        \n",
    "        if x[0].lower() == 'h':\n",
    "            hit(deck,hand)\n",
    "        elif x[0].lower() == 's':\n",
    "            print('Player stands. Dealer is playing')\n",
    "            playing = False\n",
    "        else:\n",
    "            print('Sorry, please try again. ')\n",
    "            continue\n",
    "        break"
   ]
  },
  {
   "cell_type": "markdown",
   "metadata": {},
   "source": [
    "#### 6-4：建立 show_some 的方法"
   ]
  },
  {
   "cell_type": "code",
   "execution_count": 14,
   "metadata": {},
   "outputs": [],
   "source": [
    "# 顯示出玩家手上的撲克牌\n",
    "def show_some(player,dealer):\n",
    "    \n",
    "    print(\"\\nDealer's Hand:\")\n",
    "    print(\" <card hidden>\")\n",
    "    print('',dealer.cards[1])  \n",
    "    print(\"\\nPlayer's Hand:\", *player.cards, sep='\\n ')\n",
    "    \n",
    "def show_all(player,dealer):\n",
    "    \n",
    "    print(\"\\nDealer's Hand:\", *dealer.cards, sep='\\n ')\n",
    "    print(\"Dealer's Hand =\",dealer.value)\n",
    "    print(\"\\nPlayer's Hand:\", *player.cards, sep='\\n ')\n",
    "    print(\"Player's Hand =\",player.value)"
   ]
  },
  {
   "cell_type": "markdown",
   "metadata": {},
   "source": [
    "#### 6-5：建立 bust 和 win 的方法"
   ]
  },
  {
   "cell_type": "code",
   "execution_count": 15,
   "metadata": {},
   "outputs": [],
   "source": [
    "def player_busts(player,dealer,chips):\n",
    "    print(\"Player busts!\")\n",
    "    # 呼叫 Chips 這個類別裡面的 lose_bet() 方法\n",
    "    chips.lose_bet()\n",
    "\n",
    "def player_wins(player,dealer,chips):\n",
    "    print(\"Player wins!\")\n",
    "    # 呼叫 Chips 這個類別裡面的 win_bet() 方法\n",
    "    chips.win_bet()\n",
    "\n",
    "def dealer_busts(player,dealer,chips):\n",
    "    print(\"Dealer busts!\")\n",
    "    # 呼叫 Chips 這個類別裡面的 win_bet() 方法\n",
    "    chips.win_bet()\n",
    "    \n",
    "def dealer_wins(player,dealer,chips):\n",
    "    print(\"Dealer wins!\")\n",
    "    # 呼叫 Chips 這個類別裡面的 lose_bet() 方法\n",
    "    chips.lose_bet()\n",
    "    \n",
    "def push(player,dealer):\n",
    "    print(\"Dealer and Player tie! It's a push.\")"
   ]
  }
 ],
 "metadata": {
  "kernelspec": {
   "display_name": "Python 3",
   "language": "python",
   "name": "python3"
  },
  "language_info": {
   "codemirror_mode": {
    "name": "ipython",
    "version": 3
   },
   "file_extension": ".py",
   "mimetype": "text/x-python",
   "name": "python",
   "nbconvert_exporter": "python",
   "pygments_lexer": "ipython3",
   "version": "3.7.3"
  }
 },
 "nbformat": 4,
 "nbformat_minor": 2
}
