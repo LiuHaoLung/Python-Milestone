{
 "cells": [
  {
   "cell_type": "markdown",
   "metadata": {},
   "source": [
    "# Balancing the Dataset"
   ]
  },
  {
   "cell_type": "markdown",
   "metadata": {},
   "source": [
    "Think about a photo classification problem with two classes cats and dogs.\n",
    "\n",
    "If the model's accuracy is 70% it is not too bad, if 80% is good while 90% is very good.\n",
    "\n",
    "Imagine there is a model takes animal photos and outputs only cats, no matter what you feed to the algorithm, it will always output cas as the answer, this is a bad model.\n",
    "\n",
    "In the dataset, 90% of the photos are of cats and 10% dogs, the same awfully bad model applied to this dataset would classify all photos cats, but 90% of the photos in that dataset are cats, the accuracy is 90%.\n",
    "\n",
    "Since the machine learning algortihm tries to optimize the loss, it quickly realizes that if so many targets are cats, the output should most likely be cats to achieve a great result and therefore it comes up with the same prediction at all times.\n",
    "\n",
    "The priors are 90% cats and 10% dogs, this is unbalanced, the priors are balanced when 50% are cats and 50% dogs.\n",
    "\n",
    "Examples of unbalanced prios are 90% and 10%, 80% and 20%, 70% and 30%, 60% and 40%, in this situation, the machine learning algortihm may quickly learn that one class is much more commom than the other than the ohter, decide all the ways to output the value with the higher one.\n",
    "\n",
    "If we have three classes, cats, dogs and horses, balancing the dataset would imply picking a dataset where each class amounts to approximately 33%, if we have four classes, 25% each.\n",
    "___\n",
    "\n",
    "In the audiobook dataset, by exploring the targets it can quickly realize most customers didn't convert in the given time span, we must surely balance the dataset to proceed.\n",
    "\n",
    "That's done by counting the total number of targets 1 and matching the same number of 0 to them."
   ]
  },
  {
   "cell_type": "code",
   "execution_count": null,
   "metadata": {},
   "outputs": [],
   "source": []
  }
 ],
 "metadata": {
  "kernelspec": {
   "display_name": "Python 3",
   "language": "python",
   "name": "python3"
  },
  "language_info": {
   "codemirror_mode": {
    "name": "ipython",
    "version": 3
   },
   "file_extension": ".py",
   "mimetype": "text/x-python",
   "name": "python",
   "nbconvert_exporter": "python",
   "pygments_lexer": "ipython3",
   "version": "3.7.4"
  }
 },
 "nbformat": 4,
 "nbformat_minor": 2
}
