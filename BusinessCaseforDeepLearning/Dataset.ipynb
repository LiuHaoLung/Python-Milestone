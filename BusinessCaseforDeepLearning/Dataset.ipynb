{
 "cells": [
  {
   "cell_type": "markdown",
   "metadata": {},
   "source": [
    "# Dataset"
   ]
  },
  {
   "cell_type": "markdown",
   "metadata": {},
   "source": [
    "This dataset is from the audiobook app, logically it relates to the audio version of books only, each customer in the database has made a purchase at least once, that's the condition to be included.\n",
    "\n",
    "Want to create a machine learning algorithm based on this data that can predict if a customer will buy again from the audio book company, the main idea is that the company shouldn't spend its advertising budget targeting individuals who are unlikely to come back.\n",
    "\n",
    "If can focus on efforts on customers likely to convert again, it can obtain improved sales and profitability figures.\n",
    "\n",
    "So the model will take several metrics and we will try to predict human behavior, a side effect of this model will show us are the most important metrics for a customer to come back, having the data and technology to identify prospective customers creates a lot of value and growth opportunities.\n",
    "___\n",
    "\n",
    "The data have the columns below:\n",
    "\n",
    "* Customer ID, this ID makes no information is contained, so it can skip in the algorithm.\n",
    "* Book_length(mins)_Overall, this means the sum of the length of all purchases.\n",
    "* Book_length(mins)_ave, this means the basically the sum divided by the number of purchases, so if somebody buy a single audio book, the ave and the overall length will be equal.\n",
    "* Price_overall, this is the same way as those for Book_length(mins)_Overall, the price vairable is almost a good predict.\n",
    "* Price_ave, this is the same way as those for Book_length(mins)_ave, the price vairable is almost a good predict.\n",
    "* Review, this is a boolean, it shows if the customer left a review, 1 is left a review, 0 is didn't left a review, this is a metrics that shows engagement with the platform, the assumption is that people who leave reviews are more likely to convert again.\n",
    "* Review 10/10, this is a different variable, it measures the review of a customer from 1 to 10, logically we will only have a value for people who left a review, by examine the table, it can know most people leave no review, it decided to leave the review posted on the platform and substitude all missing values with the average review, the average is 8.91, for the machine learning the 8.91 is a status quo, if a review bigger than 8.91 would indicate above agerage feelings, if a review less than 8,91 would indicate below average feelings, review is yet another variable that is an average(average review across purchases), this average review indicates feelings towards the content on the medium or better, the medium as a whole(towards content/platform/medium), so the average of 2 out of 10 indicates the person didn't have a pleasant experience with audiobooks, especially when the average is 8.91, it is logical that such a customer is not likely to buy again.\n",
    "* Minutes listened, this is a measure of engagement.\n",
    "* Completion, this is total minutes listened / the total book length_overall of a person purchased.\n",
    "* Support Requests, it is numerical and shows the total number of support requests the person has opened, support is anythins from forgotten password to assistance on using the platform, once more this is measure of engagement, it may turn out that the more support a person needed the more he or she got fed up with the platform and abandoned it, or he or she likes it so much that by using it stumbles upon different issues, unlike someone who never opens the app.\n",
    "* Last visited minus Purchase date, this is measure the difference between the last time a person interacted with the platform and their first purchase date, this is a yet another measure of engagement, the bigger the difference, the bigger the engagement, if a person engages regularly with a platform this difference will be bigger, thus the customer is likely to convert again, if the value of this variable is 0, it can sure the customer has never access what he or she has bought or perhaps he or she did it on the first day only, so it is unlikely he or she will convert again.\n",
    "\n",
    "This columns is the model's inputs."
   ]
  },
  {
   "cell_type": "code",
   "execution_count": null,
   "metadata": {},
   "outputs": [],
   "source": []
  }
 ],
 "metadata": {
  "kernelspec": {
   "display_name": "Python 3",
   "language": "python",
   "name": "python3"
  },
  "language_info": {
   "codemirror_mode": {
    "name": "ipython",
    "version": 3
   },
   "file_extension": ".py",
   "mimetype": "text/x-python",
   "name": "python",
   "nbconvert_exporter": "python",
   "pygments_lexer": "ipython3",
   "version": "3.7.4"
  }
 },
 "nbformat": 4,
 "nbformat_minor": 2
}
