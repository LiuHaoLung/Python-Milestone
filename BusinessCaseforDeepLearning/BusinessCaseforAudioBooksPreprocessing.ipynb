{
 "cells": [
  {
   "cell_type": "markdown",
   "metadata": {},
   "source": [
    "# Business Case for AudioBooks Preprocessing"
   ]
  },
  {
   "cell_type": "markdown",
   "metadata": {},
   "source": [
    "### Pre-processing"
   ]
  },
  {
   "cell_type": "markdown",
   "metadata": {},
   "source": [
    "#### 1. Extract the data from the csv"
   ]
  },
  {
   "cell_type": "code",
   "execution_count": 1,
   "metadata": {},
   "outputs": [],
   "source": [
    "import numpy as np\n",
    "\n",
    "# use the sklearn for standardizing the inputs\n",
    "# almost always we standardize all inputs as the quality of the algorithm improved significantly\n",
    "\n",
    "from sklearn import preprocessing\n",
    "\n",
    "raw_csv_data = np.loadtxt('Audiobooks-data.csv', delimiter = ',')\n",
    "\n",
    "# the first column is the arbitrarily chosen ID\n",
    "# the last column is the targets\n",
    "\n",
    "unscaled_inputs_all = raw_csv_data[:,1:-1]\n",
    "targets_all = raw_csv_data[:,-1]"
   ]
  },
  {
   "cell_type": "markdown",
   "metadata": {},
   "source": [
    "#### 2. Balance the dataset"
   ]
  },
  {
   "cell_type": "code",
   "execution_count": 2,
   "metadata": {},
   "outputs": [],
   "source": [
    "# it will count the number of targets that are 1s\n",
    "# and will keep as many 0s as 1s (so it will delete the others)\n",
    "\n",
    "# if sum all the targets we will get the number of targets that are 1s\n",
    "# just keep as many 0 as 1\n",
    "# need a variable that records the indices to be removed\n",
    "\n",
    "num_one_targets = int(np.sum(targets_all))\n",
    "zero_targets_counter = 0\n",
    "indices_to_remove = []\n",
    "\n",
    "# iterate over the dataset and balance it\n",
    "# the shape of targets_all on axis = 0, is basically the length of the vector\n",
    "# so it will show us the number of all targets\n",
    "# in the loop want to increase the 0 counter by 1, if the target is 0\n",
    "# if the targets at position i is 0, and the number of 0 is bigger than the number of 1, it want to take note of that index\n",
    "# if the targets at position i is 0, and the number of 0 is bigger than the number of 1, it will know the indices of all data points to be removed\n",
    "\n",
    "for i in range(targets_all.shape[0]):\n",
    "    \n",
    "    if targets_all[i] == 0:\n",
    "        zero_targets_counter += 1\n",
    "        \n",
    "        if zero_targets_counter > num_one_targets:\n",
    "            indices_to_remove.append(i)\n",
    "\n",
    "\n",
    "# np.delete(array, obj to delete, axis) is a method that deletes an object along an axis            \n",
    "            \n",
    "unscaled_inputs_equal_priors = np.delete(unscaled_inputs_all, indices_to_remove, axis = 0)\n",
    "targets_equal_prios = np.delete(targets_all, indices_to_remove, axis = 0)        "
   ]
  },
  {
   "cell_type": "markdown",
   "metadata": {},
   "source": [
    "#### 3. Standardize the inputs"
   ]
  },
  {
   "cell_type": "code",
   "execution_count": 3,
   "metadata": {},
   "outputs": [],
   "source": [
    "# that's the preprocessing library imported from sklearn\n",
    "# the scale method standardize the dataset along each variable\n",
    "# so basically all inputs will be standardize\n",
    "\n",
    "scaled_inputs = preprocessing.scale(unscaled_inputs_equal_priors)"
   ]
  },
  {
   "cell_type": "markdown",
   "metadata": {},
   "source": [
    "#### 4. Shuffle the data"
   ]
  },
  {
   "cell_type": "code",
   "execution_count": 4,
   "metadata": {},
   "outputs": [],
   "source": [
    "# shuffle the inputs and the targets, it will keep the same information but in a random order\n",
    "# it is possible that the original dataset was collected in the order of data\n",
    "# since it will be batching, it must shuffle the data\n",
    "# it should be randomly spread as possible so batching works fine\n",
    "# imagine the data is ordered, so each batch represents approximately a different day of purchases\n",
    "# inside the batch the data is homogeneous, but between batches it is very heterogeneous, due to promotions day of the week effects and so on\n",
    "# this will confuse the stochastic gradient descent when we average the loss across batches\n",
    "\n",
    "# first it take the indices from the axis 0 of these scaled_inputs shape\n",
    "# and place them into variable\n",
    "# the np.arange(start,stop) is a method that returns a evenly spaced values within a given interval\n",
    "# then use the np.random.shuffle(x) is method that shuffles the numbers in a given sequence\n",
    "\n",
    "shuffled_indices = np.arange(scaled_inputs.shape[0])\n",
    "np.random.shuffle(shuffled_indices)\n",
    "\n",
    "shuffled_inputs = scaled_inputs[shuffled_indices]\n",
    "shuffled_targets = targets_equal_prios[shuffled_indices]"
   ]
  },
  {
   "cell_type": "markdown",
   "metadata": {},
   "source": [
    "#### 5. Split the dataset into train, validation and test"
   ]
  },
  {
   "cell_type": "code",
   "execution_count": 5,
   "metadata": {},
   "outputs": [
    {
     "name": "stdout",
     "output_type": "stream",
     "text": [
      "1791.0 3579 0.5004191114836547\n",
      "221.0 447 0.49440715883668906\n",
      "225.0 448 0.5022321428571429\n"
     ]
    }
   ],
   "source": [
    "samples_count = shuffled_inputs.shape[0]\n",
    "\n",
    "# determine the size of the three dataset\n",
    "# use the 80-10-10 split for train, validation and test\n",
    "\n",
    "train_samples_count = int(0.8 * samples_count)\n",
    "validation_samples_count = int(0.1 * samples_count)\n",
    "test_samples_count = samples_count - train_samples_count - validation_samples_count\n",
    "\n",
    "# we have the size of the train, validation and test\n",
    "# extract them from the big dataset\n",
    "\n",
    "# the train_inputs are given by the first train samples count of the preprocessed inputs\n",
    "# the train_targets are the first train_samples count of the targets\n",
    "\n",
    "train_inputs = shuffled_inputs[:train_samples_count]\n",
    "train_targets = shuffled_targets[:train_samples_count]\n",
    "\n",
    "# logically the validation_inputs are the inputs in the interval from train_samples_count to train_samples_count + validation_samples_count\n",
    "# the validation targets are the targets in the same interval\n",
    "\n",
    "validation_inputs = shuffled_inputs[train_samples_count:train_samples_count + validation_samples_count]\n",
    "validation_targets = shuffled_targets[train_samples_count:train_samples_count + validation_samples_count]\n",
    "\n",
    "# finally the test is everything that is left\n",
    "\n",
    "test_inputs = shuffled_inputs[train_samples_count + validation_samples_count:]\n",
    "test_targets = shuffled_targets[train_samples_count + validation_samples_count:]\n",
    "\n",
    "# it is useful to check if balanced the dataset\n",
    "# moreover we may have balanced the whole dataset but not the training, validation and test sets\n",
    "# print the number of ones for each dataset, the total number of samples and the proportion of ones as a part of the total\n",
    "# the total of observations is around 3574 + 447 + 448 = 4474\n",
    "\n",
    "print(np.sum(train_targets), train_samples_count, np.sum(train_targets) / train_samples_count)\n",
    "print(np.sum(validation_targets), validation_samples_count, np.sum(validation_targets) / validation_samples_count)\n",
    "print(np.sum(test_targets), test_samples_count, np.sum(test_targets) / test_samples_count)"
   ]
  },
  {
   "cell_type": "markdown",
   "metadata": {},
   "source": [
    "#### 6. Save the three datasets in .npz"
   ]
  },
  {
   "cell_type": "code",
   "execution_count": 6,
   "metadata": {},
   "outputs": [],
   "source": [
    "# now it is saved\n",
    "# each time run the code, it will get different proportions as we shuffle the indices randomly\n",
    "# training, validation and test datasets will contain different samples\n",
    "\n",
    "np.savez('Audiobooks_data_train', inputs = train_inputs, targets = train_targets)\n",
    "np.savez('Audiobooks_data_validation', inputs = validation_inputs, targets = validation_targets)\n",
    "np.savez('Audiobooks_data_test', inputs = test_inputs, targets = test_targets)"
   ]
  },
  {
   "cell_type": "code",
   "execution_count": null,
   "metadata": {},
   "outputs": [],
   "source": []
  }
 ],
 "metadata": {
  "kernelspec": {
   "display_name": "Python 3",
   "language": "python",
   "name": "python3"
  },
  "language_info": {
   "codemirror_mode": {
    "name": "ipython",
    "version": 3
   },
   "file_extension": ".py",
   "mimetype": "text/x-python",
   "name": "python",
   "nbconvert_exporter": "python",
   "pygments_lexer": "ipython3",
   "version": "3.7.4"
  }
 },
 "nbformat": 4,
 "nbformat_minor": 2
}
