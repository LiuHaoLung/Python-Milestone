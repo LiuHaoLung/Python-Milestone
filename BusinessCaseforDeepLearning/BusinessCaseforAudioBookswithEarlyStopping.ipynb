{
 "cells": [
  {
   "cell_type": "markdown",
   "metadata": {},
   "source": [
    "# Business Case for AudioBooks with Early Stopping"
   ]
  },
  {
   "cell_type": "code",
   "execution_count": 1,
   "metadata": {},
   "outputs": [],
   "source": [
    "import numpy as np\n",
    "import tensorflow as tf"
   ]
  },
  {
   "cell_type": "code",
   "execution_count": 2,
   "metadata": {},
   "outputs": [],
   "source": [
    "npz = np.load('Audiobooks_data_train.npz')\n",
    "train_inputs = npz['inputs'].astype(np.float)\n",
    "train_targets = npz['targets'].astype(np.int)\n",
    "\n",
    "npz = np.load('Audiobooks_data_validation.npz')\n",
    "validation_inputs, validation_targets = npz['inputs'].astype(np.float), npz['targets'].astype(np.int)\n",
    "\n",
    "npz = np.load('Audiobooks_data_test.npz')\n",
    "test_inputs, test_targets = npz['inputs'].astype(np.float), npz['targets'].astype(np.int)"
   ]
  },
  {
   "cell_type": "code",
   "execution_count": 3,
   "metadata": {
    "scrolled": false
   },
   "outputs": [
    {
     "name": "stdout",
     "output_type": "stream",
     "text": [
      "Train on 3579 samples, validate on 447 samples\n",
      "Epoch 1/100\n",
      "3579/3579 - 1s - loss: 0.6102 - accuracy: 0.6762 - val_loss: 0.5246 - val_accuracy: 0.7383\n",
      "Epoch 2/100\n",
      "3579/3579 - 0s - loss: 0.4756 - accuracy: 0.7700 - val_loss: 0.4375 - val_accuracy: 0.7942\n",
      "Epoch 3/100\n",
      "3579/3579 - 0s - loss: 0.4185 - accuracy: 0.7815 - val_loss: 0.3971 - val_accuracy: 0.8009\n",
      "Epoch 4/100\n",
      "3579/3579 - 0s - loss: 0.3888 - accuracy: 0.7916 - val_loss: 0.3759 - val_accuracy: 0.8255\n",
      "Epoch 5/100\n",
      "3579/3579 - 0s - loss: 0.3723 - accuracy: 0.7969 - val_loss: 0.3570 - val_accuracy: 0.8300\n",
      "Epoch 6/100\n",
      "3579/3579 - 0s - loss: 0.3629 - accuracy: 0.8030 - val_loss: 0.3548 - val_accuracy: 0.8277\n",
      "Epoch 7/100\n",
      "3579/3579 - 0s - loss: 0.3578 - accuracy: 0.8064 - val_loss: 0.3495 - val_accuracy: 0.8210\n",
      "Epoch 8/100\n",
      "3579/3579 - 0s - loss: 0.3505 - accuracy: 0.8134 - val_loss: 0.3441 - val_accuracy: 0.8188\n",
      "Epoch 9/100\n",
      "3579/3579 - 0s - loss: 0.3454 - accuracy: 0.8111 - val_loss: 0.3439 - val_accuracy: 0.8322\n",
      "Epoch 10/100\n",
      "3579/3579 - 0s - loss: 0.3434 - accuracy: 0.8148 - val_loss: 0.3373 - val_accuracy: 0.8188\n",
      "Epoch 11/100\n",
      "3579/3579 - 0s - loss: 0.3388 - accuracy: 0.8164 - val_loss: 0.3432 - val_accuracy: 0.8143\n",
      "Epoch 12/100\n",
      "3579/3579 - 0s - loss: 0.3380 - accuracy: 0.8055 - val_loss: 0.3339 - val_accuracy: 0.8188\n",
      "Epoch 13/100\n",
      "3579/3579 - 0s - loss: 0.3371 - accuracy: 0.8145 - val_loss: 0.3438 - val_accuracy: 0.8255\n",
      "Epoch 14/100\n",
      "3579/3579 - 0s - loss: 0.3391 - accuracy: 0.8150 - val_loss: 0.3297 - val_accuracy: 0.8434\n",
      "Epoch 15/100\n",
      "3579/3579 - 0s - loss: 0.3345 - accuracy: 0.8150 - val_loss: 0.3284 - val_accuracy: 0.8210\n",
      "Epoch 16/100\n",
      "3579/3579 - 0s - loss: 0.3310 - accuracy: 0.8122 - val_loss: 0.3302 - val_accuracy: 0.8255\n",
      "Epoch 17/100\n",
      "3579/3579 - 0s - loss: 0.3271 - accuracy: 0.8229 - val_loss: 0.3369 - val_accuracy: 0.8188\n"
     ]
    },
    {
     "data": {
      "text/plain": [
       "<tensorflow.python.keras.callbacks.History at 0x640945ed0>"
      ]
     },
     "execution_count": 3,
     "metadata": {},
     "output_type": "execute_result"
    }
   ],
   "source": [
    "input_size = 10\n",
    "output_size = 2\n",
    "hidden_layer_size = 50\n",
    "\n",
    "model = tf.keras.Sequential([\n",
    "                            tf.keras.layers.Dense(hidden_layer_size, activation = 'relu'),\n",
    "                            tf.keras.layers.Dense(hidden_layer_size, activation = 'relu'),\n",
    "                            tf.keras.layers.Dense(output_size, activation = 'softmax')\n",
    "                            ])\n",
    "\n",
    "\n",
    "model.compile(optimizer = 'adam', loss = 'sparse_categorical_crossentropy', metrics = ['accuracy'])\n",
    "\n",
    "batch_size = 100\n",
    "max_epochs = 100\n",
    "\n",
    "# set up the early stopping mechanism with tensorflow\n",
    "# the fit method contains an argument called callbacks\n",
    "# callbacks are functions called at certain points during model training\n",
    "# fortunately there are many different readily available callbacks\n",
    "# there is focus on is early stopping\n",
    "# early stopping is the definition of a utility called at a certain point during training\n",
    "# each time the validation loss is calculated it is compared to the validation loss one epoch ago\n",
    "# if it starts increasing the model is overfitting and we should stop training\n",
    "# the early stopping mechanism is a hyperparameter\n",
    "# by default, this object monitor the validation loss and stop the training process the first time the validation loss starts increasing\n",
    "\n",
    "early_stopping = tf.keras.callbacks.EarlyStopping(patience = 2)\n",
    "\n",
    "model.fit(train_inputs, \n",
    "          train_targets,\n",
    "          batch_size = batch_size,\n",
    "          epochs = max_epochs,\n",
    "          callbacks = [early_stopping],\n",
    "          validation_data = (validation_inputs, validation_targets),\n",
    "          verbose = 2\n",
    "         )\n",
    "\n",
    "# it can know the training stop at 10 epochs\n",
    "# obviously it can know the first training is overfitting\n",
    "# the accuracy is 84%\n",
    "# through this result, it can know it will stop at the first time validation loss is increasing\n",
    "# moreover it increased only slightly\n",
    "# sometimes if we noticed that the validation loss has increased by insignificant amount\n",
    "# it may prefer to let one or two validation increases slide\n",
    "# to allow for this tolerance we can adjust the early stopping object\n",
    "# there is an argument called patience which by default is set to 0\n",
    "# we can specify the number of epochs with no improvement after which the training will be stopped\n",
    "# it is a bit strict to have no tolerance for a random increase in the validation loss\n",
    "\n",
    "# the final validation accuracy is around 81%\n",
    "# the priors were 50% and 50%, so the algorithm definitely learned a lot\n",
    "# it managed to classify around 81% of the customers correctly\n",
    "\n",
    "# the raw data which should not make a lot of sense to anyone who is not in this business\n",
    "# and the data where many variables were binary\n",
    "# and there are had some missing values\n",
    "# where the orders of magnitude had nothing in common\n",
    "\n",
    "# it is extremely hard to predict human behavior\n",
    "# the machine learning we create here is new tool in your arsenal that has given you an incredible edge\n",
    "# moreover it is a skill can easily apply in any business out there\n"
   ]
  },
  {
   "cell_type": "code",
   "execution_count": null,
   "metadata": {},
   "outputs": [],
   "source": []
  }
 ],
 "metadata": {
  "kernelspec": {
   "display_name": "Python 3",
   "language": "python",
   "name": "python3"
  },
  "language_info": {
   "codemirror_mode": {
    "name": "ipython",
    "version": 3
   },
   "file_extension": ".py",
   "mimetype": "text/x-python",
   "name": "python",
   "nbconvert_exporter": "python",
   "pygments_lexer": "ipython3",
   "version": "3.7.4"
  }
 },
 "nbformat": 4,
 "nbformat_minor": 2
}
